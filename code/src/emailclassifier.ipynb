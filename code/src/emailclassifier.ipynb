{
 "cells": [
  {
   "cell_type": "code",
   "execution_count": null,
   "metadata": {},
   "outputs": [],
   "source": [
    "# pip install torch transformers sentencepiece pandas numpy langchain\n"
   ]
  },
  {
   "cell_type": "code",
   "execution_count": null,
   "metadata": {},
   "outputs": [],
   "source": [
    "# pip install llama-cpp-python\n"
   ]
  },
  {
   "cell_type": "code",
   "execution_count": null,
   "metadata": {},
   "outputs": [],
   "source": [
    "#Running LLaMA 2 Locally (CPU)\n",
    "from llama_cpp import Llama\n",
    "\n",
    "model_path = \"llama_model\\llama-2-7b-chat.Q4_K_M.gguf\"  # Download a GGUF quantized model\n",
    "llm = Llama(model_path=model_path)"
   ]
  },
  {
   "cell_type": "code",
   "execution_count": null,
   "metadata": {},
   "outputs": [],
   "source": [
    "import json\n",
    "import re\n",
    "from llama_cpp import Llama\n",
    "\n",
    "def categorize_email(email_text, model_path):\n",
    "    \"\"\"\n",
    "    Uses Llama 2 (locally) to categorize an email and extract key details.\n",
    "\n",
    "    Args:\n",
    "        email_text: The text content of the email.\n",
    "        model_path: The path to the locally stored LLaMA 2 model.\n",
    "\n",
    "    Returns:\n",
    "        A JSON-formatted string with the categorized information.\n",
    "    \"\"\"\n",
    "    prompt = f\"\"\"\n",
    "You are an AI email analyzer for a bank. Categorize the email and extract key details.  \n",
    "Your output should be a JSON object with the following keys:\n",
    "\n",
    "- **request_type**: General category (e.g., \"Information Request\", \"Support Request\").  \n",
    "- **sub_request_type**: Specific category (e.g., \"Password Reset\", \"Order Status\"). If not applicable, return \"N/A\".  \n",
    "- **key_attributes**: A list of key details (e.g., [\"Order Number: 12345\", \"Account ID: ABC1234\"]). If none, return an empty list.  \n",
    "- **main_intent**: A concise summary of why the email was written.  \n",
    "\n",
    "Email:  \n",
    "```{email_text}```  \n",
    "\n",
    "Return JSON only, with no extra text before or after.\n",
    "\"\"\"\n",
    "\n",
    "    # Load LLaMA 2 locally\n",
    "    llm = Llama(model_path=model_path)\n",
    "\n",
    "    # Generate response\n",
    "    response = llm(prompt, max_tokens=512)\n",
    "\n",
    "    # Extract the text output\n",
    "    response_text = response[\"choices\"][0][\"text\"].strip()\n",
    "\n",
    "    # Extract JSON using regex\n",
    "    json_match = re.search(r'\\{.*\\}', response_text, re.DOTALL)\n",
    "    \n",
    "    if json_match:\n",
    "        try:\n",
    "            result = json.loads(json_match.group(0))\n",
    "            return json.dumps(result, indent=4)\n",
    "        except json.JSONDecodeError:\n",
    "            return json.dumps({\"error\": \"Failed to parse JSON from the model response.\"}, indent=4)\n",
    "    \n",
    "    return json.dumps({\"error\": \"No JSON response detected from the model.\"}, indent=4)\n",
    "\n",
    "\n"
   ]
  },
  {
   "cell_type": "code",
   "execution_count": null,
   "metadata": {},
   "outputs": [],
   "source": [
    "email_samples = [\n",
    "    # 1️⃣ Account Issue - Unrecognized Transaction\n",
    "    \"\"\"Subject: Urgent: Unrecognized Transaction on My Account\n",
    "\n",
    "Dear Customer Support,\n",
    "\n",
    "I recently noticed an unfamiliar transaction on my credit card statement. On **March 18, 2025**, an amount of **$245.99** was charged at \"TechStore Inc.\" (Transaction ID: **TXN789456**). I do not recall making this purchase, and I am concerned that my card details might have been compromised.\n",
    "\n",
    "Could you please investigate this charge and advise on the next steps? If necessary, I would like to dispute the transaction and request a card replacement.\n",
    "\n",
    "Looking forward to your prompt response.\n",
    "\n",
    "Best regards,  \n",
    "**Michael Anderson**  \n",
    "(Last 4 digits of card: **5678**)\"\"\" \n",
    "]\n",
    "\n",
    "# Example usage with all sample emails:\n",
    "model_path = \"llama_model/llama-2-7b-chat.Q4_K_M.gguf\"\n",
    "\n",
    "for email in email_samples:\n",
    "    print(categorize_email(email, model_path))\n",
    "    print(\"-\" * 80)\n"
   ]
  }
 ],
 "metadata": {
  "kernelspec": {
   "display_name": "Python 3",
   "language": "python",
   "name": "python3"
  },
  "language_info": {
   "codemirror_mode": {
    "name": "ipython",
    "version": 3
   },
   "file_extension": ".py",
   "mimetype": "text/x-python",
   "name": "python",
   "nbconvert_exporter": "python",
   "pygments_lexer": "ipython3",
   "version": "3.12.9"
  }
 },
 "nbformat": 4,
 "nbformat_minor": 2
}
